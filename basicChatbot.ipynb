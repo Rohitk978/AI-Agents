{
 "cells": [
  {
   "cell_type": "markdown",
   "id": "9259005f",
   "metadata": {},
   "source": [
    "#### BUILD A BASIC CHATBOT LANGGRAPH(GRAPH API)"
   ]
  },
  {
   "cell_type": "code",
   "execution_count": null,
   "id": "4aa313c8",
   "metadata": {},
   "outputs": [],
   "source": [
    "from typing import Annotated\n",
    "\n",
    "from typing_extensions import TypedDict\n",
    "\n",
    "from langgraph.graph import StateGraph,START,END\n",
    "from langgraph.graph.message import add_messages\n",
    "\n",
    "class State(TypedDict):\n",
    "    # Messages have the type \"list\". The `add_messages` function\n",
    "    # in the annotation defines how this state key should be updated\n",
    "    # (in this case, it appends messages to the list, rather than overwriting them)\n",
    "    messages:Annotated[list,add_messages]\n",
    "    \n",
    "    \n",
    "import os\n",
    "from dotenv import load_dotenv\n",
    "load_dotenv()\n",
    "\n",
    "from langchain_groq import ChatGroq\n",
    "from langchain.chat_models import init_chat_model\n",
    "\n",
    "llm=ChatGroq(model=\"llama3-8b-8192\")\n",
    "\n",
    "llm\n",
    "\n",
    "llm=init_chat_model(\"groq:llama3-8b-8192\")\n",
    "llm\n",
    "\n",
    "## Node Functionality\n",
    "def chatbot(state:State):\n",
    "    return {\"messages\":[llm.invoke(state[\"messages\"])]}\n",
    "\n",
    "graph_builder=StateGraph(State)\n",
    "\n",
    "## Adding node\n",
    "graph_builder.add_node(\"llmchatbot\",chatbot)\n",
    "## Adding Edges\n",
    "graph_builder.add_edge(START,\"llmchatbot\")\n",
    "graph_builder.add_edge(\"llmchatbot\",END)\n",
    "\n",
    "## compile the graph\n",
    "graph=graph_builder.compile()\n",
    "\n",
    "\n",
    "## Visualize the graph\n",
    "from IPython.display import Image,display\n",
    "\n",
    "try:\n",
    "    display(Image(graph.get_graph().draw_mermaid_png()))\n",
    "except Exception:\n",
    "    pass\n",
    "\n",
    "\n",
    "response=graph.invoke({\"messages\":\"Hi\"})"
   ]
  },
  {
   "cell_type": "code",
   "execution_count": null,
   "id": "3d7fc2a1",
   "metadata": {},
   "outputs": [],
   "source": [
    "response[\"messages\"][-1].content"
   ]
  },
  {
   "cell_type": "code",
   "execution_count": null,
   "id": "139aaff9",
   "metadata": {},
   "outputs": [],
   "source": [
    "for event in graph.stream({\"messages\" : \"Hi, How are you?\"}):\n",
    "    for val in event.values():\n",
    "        print(val[\"messages\"][-1].content)"
   ]
  },
  {
   "cell_type": "markdown",
   "id": "51cbea43",
   "metadata": {},
   "source": [
    "#### CHATBOT INCLUDING TOOL"
   ]
  },
  {
   "cell_type": "code",
   "execution_count": null,
   "id": "f1106859",
   "metadata": {},
   "outputs": [],
   "source": [
    "from langchain_tavily import TavilySearch\n",
    "tool = TavilySearch(max_results=2)\n",
    "tool.invoke(\"what is langgraph\")"
   ]
  },
  {
   "cell_type": "code",
   "execution_count": null,
   "id": "1058d7f9",
   "metadata": {},
   "outputs": [],
   "source": [
    "# Creating Custom function tool to bind with the llm model.\n",
    "def multiply(a:int,b:int)->int:\n",
    "    \"\"\"Multiply a and b\n",
    "    Args:\n",
    "    a (int): first int\n",
    "    b (int): second int \n",
    "    \n",
    "    Returns:\n",
    "    int: output int\n",
    "    \"\"\"\n",
    "    return a*b"
   ]
  },
  {
   "cell_type": "code",
   "execution_count": null,
   "id": "9f48aad9",
   "metadata": {},
   "outputs": [],
   "source": [
    "tools = [tool,multiply]"
   ]
  },
  {
   "cell_type": "code",
   "execution_count": null,
   "id": "f89ee653",
   "metadata": {},
   "outputs": [],
   "source": [
    "llm_tools = llm.bind_tools(tools)"
   ]
  },
  {
   "cell_type": "code",
   "execution_count": null,
   "id": "374a1078",
   "metadata": {},
   "outputs": [],
   "source": [
    "llm_tools"
   ]
  },
  {
   "cell_type": "code",
   "execution_count": null,
   "id": "10503178",
   "metadata": {},
   "outputs": [],
   "source": [
    "## Stategraph\n",
    "from langgraph.graph import StateGraph,START,END\n",
    "from langgraph.prebuilt import ToolNode\n",
    "from langgraph.prebuilt import tools_condition\n",
    "\n",
    "## Node definition\n",
    "def tool_calling_llm(state:State):\n",
    "    return {\"messages\":[llm_tools.invoke(state[\"messages\"])]}\n",
    "\n",
    "## Grpah\n",
    "builder=StateGraph(State)\n",
    "builder.add_node(\"tool_calling_llm\",tool_calling_llm)\n",
    "builder.add_node(\"tools\",ToolNode(tools))\n",
    "\n",
    "## Add Edges\n",
    "builder.add_edge(START, \"tool_calling_llm\")\n",
    "builder.add_conditional_edges(\n",
    "    \"tool_calling_llm\",\n",
    "    # If the latest message (result) from assistant is a tool call -> tools_condition routes to tools\n",
    "    # If the latest message (result) from assistant is a not a tool call -> tools_condition routes to END\n",
    "    tools_condition\n",
    ")\n",
    "builder.add_edge(\"tools\",END)\n",
    "\n",
    "## compile the graph\n",
    "graph=builder.compile()\n",
    "\n",
    "from IPython.display import Image, display\n",
    "display(Image(graph.get_graph().draw_mermaid_png()))"
   ]
  },
  {
   "cell_type": "code",
   "execution_count": null,
   "id": "5b2a6c05",
   "metadata": {},
   "outputs": [],
   "source": [
    "response = graph.invoke({\"messages\" : \"what is recent AI news\"})"
   ]
  },
  {
   "cell_type": "code",
   "execution_count": null,
   "id": "248ef4d2",
   "metadata": {},
   "outputs": [],
   "source": [
    "response[\"messages\"][-1].content"
   ]
  },
  {
   "cell_type": "code",
   "execution_count": null,
   "id": "1911fe5a",
   "metadata": {},
   "outputs": [],
   "source": [
    "for m in response[\"messages\"]:\n",
    "    m.pretty_print()"
   ]
  },
  {
   "cell_type": "code",
   "execution_count": null,
   "id": "02fcbac2",
   "metadata": {},
   "outputs": [],
   "source": [
    "response = graph.invoke({\"messages\" : \"what is 5 multiplied by 6 and then multiply by 4\"})\n",
    "for m in response[\"messages\"]:\n",
    "    m.pretty_print()"
   ]
  },
  {
   "cell_type": "markdown",
   "id": "8585f55b",
   "metadata": {},
   "source": [
    "#### ReACT AGENT ARCHITECTURE"
   ]
  },
  {
   "cell_type": "code",
   "execution_count": null,
   "id": "52f4d4ac",
   "metadata": {},
   "outputs": [],
   "source": [
    "## Stategraph\n",
    "from langgraph.graph import StateGraph,START,END\n",
    "from langgraph.prebuilt import ToolNode\n",
    "from langgraph.prebuilt import tools_condition\n",
    "\n",
    "## Node definition\n",
    "def tool_calling_llm(state:State):\n",
    "    return {\"messages\":[llm_tools.invoke(state[\"messages\"])]}\n",
    "\n",
    "## Grpah\n",
    "builder=StateGraph(State)\n",
    "builder.add_node(\"tool_calling_llm\",tool_calling_llm)\n",
    "builder.add_node(\"tools\",ToolNode(tools))\n",
    "\n",
    "## Add Edges\n",
    "builder.add_edge(START, \"tool_calling_llm\")\n",
    "builder.add_conditional_edges(\n",
    "    \"tool_calling_llm\",\n",
    "    # If the latest message (result) from assistant is a tool call -> tools_condition routes to tools\n",
    "    # If the latest message (result) from assistant is a not a tool call -> tools_condition routes to END\n",
    "    tools_condition\n",
    ")\n",
    "builder.add_edge(\"tools\",\"tool_calling_llm\")\n",
    "\n",
    "## compile the graph\n",
    "graph=builder.compile()\n",
    "\n",
    "from IPython.display import Image, display\n",
    "display(Image(graph.get_graph().draw_mermaid_png()))"
   ]
  },
  {
   "cell_type": "code",
   "execution_count": null,
   "id": "0de4aa38",
   "metadata": {},
   "outputs": [],
   "source": [
    "response=graph.invoke({\"messages\":\"Give me the recent ai news and then multiply 5 by 10\"})\n",
    "for m in response['messages']:\n",
    "    m.pretty_print()"
   ]
  },
  {
   "cell_type": "markdown",
   "id": "d5235034",
   "metadata": {},
   "source": [
    "#### ADDING MEMORY IN AGENTIC GRAPH"
   ]
  },
  {
   "cell_type": "code",
   "execution_count": null,
   "id": "aee43bbd",
   "metadata": {},
   "outputs": [],
   "source": [
    "## Stategraph\n",
    "from langgraph.graph import StateGraph,START,END\n",
    "from langgraph.prebuilt import ToolNode\n",
    "from langgraph.checkpoint.memory import MemorySaver\n",
    "from langgraph.prebuilt import tools_condition\n",
    "\n",
    "memory = MemorySaver()\n",
    "\n",
    "## Node definition\n",
    "def tool_calling_llm(state:State):\n",
    "    return {\"messages\":[llm_tools.invoke(state[\"messages\"])]}\n",
    "\n",
    "## Grpah\n",
    "builder=StateGraph(State)\n",
    "builder.add_node(\"tool_calling_llm\",tool_calling_llm)\n",
    "builder.add_node(\"tools\",ToolNode(tools))\n",
    "\n",
    "## Add Edges\n",
    "builder.add_edge(START, \"tool_calling_llm\")\n",
    "builder.add_conditional_edges(\n",
    "    \"tool_calling_llm\",\n",
    "    # If the latest message (result) from assistant is a tool call -> tools_condition routes to tools\n",
    "    # If the latest message (result) from assistant is a not a tool call -> tools_condition routes to END\n",
    "    tools_condition\n",
    ")\n",
    "builder.add_edge(\"tools\",\"tool_calling_llm\")\n",
    "\n",
    "## compile the graph\n",
    "graph=builder.compile(checkpointer=memory)\n",
    "\n",
    "from IPython.display import Image, display\n",
    "display(Image(graph.get_graph().draw_mermaid_png()))"
   ]
  },
  {
   "cell_type": "code",
   "execution_count": null,
   "id": "3557c5e0",
   "metadata": {},
   "outputs": [],
   "source": [
    "config = {\"configurable\":{\"thread_id\":\"1\"}}\n",
    "response = graph.invoke({\"messages\":\"Hi, my name is rohit\"},config=config)"
   ]
  },
  {
   "cell_type": "code",
   "execution_count": null,
   "id": "388f91a7",
   "metadata": {},
   "outputs": [],
   "source": [
    "response = graph.invoke({\"messages\":\"what is my name?\"},config=config)\n",
    "print(response[\"messages\"][-1].content)"
   ]
  },
  {
   "cell_type": "markdown",
   "id": "c1e24dd5",
   "metadata": {},
   "source": [
    "#### STREAMING"
   ]
  },
  {
   "cell_type": "code",
   "execution_count": null,
   "id": "3b38f491",
   "metadata": {},
   "outputs": [],
   "source": [
    "from langgraph.checkpoint.memory import MemorySaver\n",
    "memory = MemorySaver()"
   ]
  },
  {
   "cell_type": "code",
   "execution_count": null,
   "id": "e0be0c99",
   "metadata": {},
   "outputs": [],
   "source": [
    "def superbot(state:State):\n",
    "    return{\"messages\":[llm.invoke(state['messages'])]}"
   ]
  },
  {
   "cell_type": "code",
   "execution_count": null,
   "id": "2a525c98",
   "metadata": {},
   "outputs": [],
   "source": [
    "graph = StateGraph(State)\n",
    "graph.add_node(\"SuperBot\",superbot)\n",
    "graph.add_edge(START,\"SuperBot\")\n",
    "graph.add_edge(\"SuperBot\",END)\n",
    "graph_builder = graph.compile(checkpointer=memory)\n",
    "\n",
    "display(Image(graph_builder.get_graph().draw_mermaid_png()))"
   ]
  },
  {
   "cell_type": "code",
   "execution_count": null,
   "id": "236fcda1",
   "metadata": {},
   "outputs": [],
   "source": [
    "## Invocation\n",
    "\n",
    "config = {\"configurable\": {\"thread_id\": \"1\"}}\n",
    "\n",
    "graph_builder.invoke({'messages':\"Hi,My name is Krish And I like cricket\"},config)"
   ]
  },
  {
   "cell_type": "markdown",
   "id": "49c63962",
   "metadata": {},
   "source": [
    "Streaming\n",
    "Methods: .stream() and astream()\n",
    "\n",
    "These methods are sync and async methods for streaming back results.\n",
    "Additional parameters in streaming modes for graph state\n",
    "\n",
    "values : This streams the full state of the graph after each node is called.\n",
    "updates : This streams updates to the state of the graph after each node is called."
   ]
  },
  {
   "cell_type": "code",
   "execution_count": null,
   "id": "f2acf7c3",
   "metadata": {},
   "outputs": [],
   "source": [
    "config = {\"configurable\":{\"thread_id\":\"3\"}}\n",
    "for chunk in graph_builder.stream({'messages':\"hi,my name is rohit and i like badminton\"},config,stream_mode=\"values\"):\n",
    "    print(chunk)"
   ]
  },
  {
   "cell_type": "code",
   "execution_count": null,
   "id": "07958e8d",
   "metadata": {},
   "outputs": [],
   "source": [
    "config = {\"configurable\": {\"thread_id\": \"5\"}}\n",
    "\n",
    "async for event in graph_builder.astream_events({\"messages\":[\"Hi My name is Rohit and I like to play cricket\"]},config,version=\"v2\"):\n",
    "    print(event)"
   ]
  },
  {
   "cell_type": "code",
   "execution_count": null,
   "id": "67f277b6",
   "metadata": {},
   "outputs": [],
   "source": []
  }
 ],
 "metadata": {
  "kernelspec": {
   "display_name": "myenv",
   "language": "python",
   "name": "python3"
  },
  "language_info": {
   "codemirror_mode": {
    "name": "ipython",
    "version": 3
   },
   "file_extension": ".py",
   "mimetype": "text/x-python",
   "name": "python",
   "nbconvert_exporter": "python",
   "pygments_lexer": "ipython3",
   "version": "3.10.0"
  }
 },
 "nbformat": 4,
 "nbformat_minor": 5
}
