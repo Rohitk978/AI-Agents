{
 "cells": [
  {
   "cell_type": "code",
   "execution_count": 1,
   "id": "d524e63f",
   "metadata": {},
   "outputs": [],
   "source": [
    "import os \n",
    "from typing import Annotated,TypedDict,List,Literal\n",
    "from langchain_groq import ChatGroq\n",
    "from langchain_core.messages import BaseMessage,HumanMessage,SystemMessage,AIMessage\n",
    "from langgraph.graph import StateGraph,START,END\n",
    "from langgraph.prebuilt import create_react_agent\n",
    "from langchain_community.tools.tavily_search import TavilySearchResults\n",
    "from langgraph.checkpoint.memory import MemorySaver\n",
    "from langchain_core.tools import tool\n",
    "from langgraph.graph import MessagesState\n",
    "from langgraph.prebuilt import ToolNode"
   ]
  },
  {
   "cell_type": "code",
   "execution_count": 2,
   "id": "5437ba8a",
   "metadata": {},
   "outputs": [],
   "source": [
    "from dotenv import load_dotenv\n",
    "load_dotenv()\n",
    "os.environ[\"GROQ_API_KEY\"] = os.getenv(\"GROQ_API_KEY\")"
   ]
  },
  {
   "cell_type": "code",
   "execution_count": 3,
   "id": "2b7f068c",
   "metadata": {},
   "outputs": [],
   "source": [
    "# Define the state.\n",
    "class Agentstate(MessagesState):\n",
    "    next_agent:str       \n",
    "    # which agent should go next."
   ]
  },
  {
   "cell_type": "code",
   "execution_count": 4,
   "id": "23a95540",
   "metadata": {},
   "outputs": [],
   "source": [
    "# Create tools.\n",
    "@tool \n",
    "def search_web(query:str)->str:\n",
    "    \"\"\"searchh the web for information\"\"\"\n",
    "    search = TavilySearchResults(max_results=3)\n",
    "    results = search.invoke(query)\n",
    "    return str(results)\n",
    "\n",
    "@tool\n",
    "def write_summary(content:str)->str:\n",
    "    \"\"\"write a summary of provided content\"\"\"\n",
    "    # Simple summary generation.\n",
    "    summary = f\"Summary of findings: \\n \\n {content[:500]}...\"\n",
    "    return summary"
   ]
  },
  {
   "cell_type": "code",
   "execution_count": 5,
   "id": "e1bb9816",
   "metadata": {},
   "outputs": [],
   "source": [
    "from langchain.chat_models import init_chat_model\n",
    "llm = init_chat_model(\"groq:llama-3.1-8b-instant\")"
   ]
  },
  {
   "cell_type": "code",
   "execution_count": 6,
   "id": "7b341603",
   "metadata": {},
   "outputs": [],
   "source": [
    "# Define agent function.\n",
    "def researcher_agent(state:Agentstate):\n",
    "    \"\"\"researcher agent that seaches for information\"\"\"\n",
    "    messages = state[\"messages\"]\n",
    "    # Add system message for context\n",
    "    system_msg = SystemMessage(content=\"You are the research assistant. Use the web to search the relevant information.\")\n",
    "    # Call llm with tools\n",
    "    researcher_llm = llm.bind_tools([search_web])\n",
    "    # Now it store the outptut in messages and show the output with system_msg & messages together.\n",
    "    response = researcher_llm.invoke([system_msg] + messages)\n",
    "    return {\n",
    "        \"messages\":[response],\n",
    "        \"next_agent\":\"writer\"\n",
    "    }"
   ]
  },
  {
   "cell_type": "code",
   "execution_count": 7,
   "id": "5afef9f9",
   "metadata": {},
   "outputs": [],
   "source": [
    "def writer_agent(state:Agentstate):\n",
    "    messages = state[\"messages\"]\n",
    "    system_msg = SystemMessage(content=\"You are a technical writer. Review the conversation and create a Summary over it\")\n",
    "    # Simple completion without tools.\n",
    "    response = llm.invoke([system_msg]+messages)\n",
    "    return {\n",
    "        \"messages\":[response],\n",
    "        \"next_agent\":\"end\"\n",
    "    }"
   ]
  },
  {
   "cell_type": "code",
   "execution_count": 8,
   "id": "a261b0bc",
   "metadata": {},
   "outputs": [],
   "source": [
    "# Tool executor node.\n",
    "def execute_tool(state: Agentstate):\n",
    "    \"\"\"Execute any pending tool\"\"\"\n",
    "    messages = state[\"messages\"]\n",
    "    last_msg = messages[-1]\n",
    "    # Check if there are tools to execute.\n",
    "    if hasattr(last_msg,\"tool_calls\") and last_msg.tool_calls:\n",
    "        # create tool node and execute.\n",
    "        tool_node = ToolNode([search_web,write_summary])\n",
    "        response = tool_node.invoke(state)\n",
    "        return response\n",
    "    \n",
    "    # No tools to execute.\n",
    "    return state\n"
   ]
  },
  {
   "cell_type": "code",
   "execution_count": 9,
   "id": "ca6b4547",
   "metadata": {},
   "outputs": [],
   "source": [
    "# Build Graph.\n",
    "workflow = StateGraph(MessagesState)\n",
    "# Adding Node in graph.\n",
    "workflow.add_node(\"researcher\",researcher_agent)\n",
    "workflow.add_node(\"writer\",writer_agent)\n",
    "# Define Flow of the graph.\n",
    "workflow.set_entry_point(\"researcher\")\n",
    "workflow.add_edge(\"researcher\",\"writer\")\n",
    "workflow.add_edge(\"writer\",END)\n",
    "final_work = workflow.compile()"
   ]
  },
  {
   "cell_type": "code",
   "execution_count": 10,
   "id": "d23dec2b",
   "metadata": {},
   "outputs": [
    {
     "data": {
      "text/plain": [
       "' \\n\\nSummary:\\n\\n1. **Customer Service Chatbots**: AI-powered chatbots can be used as virtual customer service agents, helping customers with queries, complaints, and issues. They can be integrated with messaging platforms, websites, or mobile apps.\\n\\n2. **Predictive Analytics**: AI can analyze customer behavior, preferences, and historical data to predict future trends and patterns. This enables businesses to take proactive measures to meet customer needs and improve overall customer experience.\\n\\n3. **Personalization**: AI can help personalize customer interactions, such as product recommendations, tailored marketing campaigns, and customized offers. This can lead to increased customer engagement and loyalty.\\n\\n4. **Automation**: AI can automate repetitive tasks, such as data entry, bookkeeping, and scheduling appointments. This can free up human resources for more strategic and creative tasks.\\n\\n5. **Sales and Marketing**: AI can be used to analyze sales data, identify opportunities, and make predictions about future sales performance. It can also help create targeted marketing campaigns and optimize marketing channels.\\n\\n6. **Supply Chain Management**: AI can help optimize supply chain operations by predicting demand, detecting anomalies, and optimizing inventory levels.\\n\\n7. **Cybersecurity**: AI-powered systems can detect and respond to cyber threats in real-time, improving overall cybersecurity posture.\\n\\n8. **Human Resources**: AI can help with recruitment, talent management, and employee engagement. It can also help analyze employee performance and provide personalized feedback.\\n\\n9. **Financial Analysis**: AI can help analyze financial data, identify trends, and make predictions about future financial performance.\\n\\n10. **Research and Development**: AI can help with data analysis, hypothesis testing, and experimentation in R&D.\\n\\n**Agent AI technologies used in business:**\\n\\n1. **Natural Language Processing (NLP)**: enables chatbots to understand and respond to human language.\\n2. **Machine Learning (ML)**: enables AI systems to learn from data and improve over time.\\n3. **Deep Learning (DL)**: enables AI systems to learn complex patterns and relationships in data.\\n4. **Robot Process Automation (RPA)**: enables automation of repetitive tasks.\\n5. **Business Process Management (BPM)**: enables automation and optimization of business processes.\\n\\n**Benefits of Agent AI in business:**\\n\\n1. **Improved customer experience**\\n2. **Increased efficiency**\\n3. **Enhanced decision-making**\\n4. **Better resource allocation**\\n5. **Competitive advantage**\\n\\n**Challenges and limitations of Agent AI in business:**\\n\\n1. **Data quality and availability**\\n2. **Algorithmic bias**\\n3. **Security and privacy concerns**\\n4. **Integration with existing systems**\\n5. **Human-AI collaboration**\\n\\nBy understanding the benefits and challenges of Agent AI in business, organizations can make informed decisions about how to leverage AI to drive business success.'"
      ]
     },
     "execution_count": 10,
     "metadata": {},
     "output_type": "execute_result"
    }
   ],
   "source": [
    "response = final_work.invoke({\"messages\":\"Research about the agent ai uses in Buisness\"})\n",
    "response[\"messages\"][-1].content"
   ]
  },
  {
   "cell_type": "code",
   "execution_count": null,
   "id": "a21a1aba",
   "metadata": {},
   "outputs": [],
   "source": []
  }
 ],
 "metadata": {
  "kernelspec": {
   "display_name": "myenv (3.10.0)",
   "language": "python",
   "name": "python3"
  },
  "language_info": {
   "codemirror_mode": {
    "name": "ipython",
    "version": 3
   },
   "file_extension": ".py",
   "mimetype": "text/x-python",
   "name": "python",
   "nbconvert_exporter": "python",
   "pygments_lexer": "ipython3",
   "version": "3.10.0"
  }
 },
 "nbformat": 4,
 "nbformat_minor": 5
}
